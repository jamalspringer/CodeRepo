{
 "cells": [
  {
   "cell_type": "code",
   "execution_count": null,
   "metadata": {
    "collapsed": true
   },
   "outputs": [],
   "source": [
    "import socket\n",
    "import threading "
   ]
  },
  {
   "cell_type": "code",
   "execution_count": null,
   "metadata": {
    "collapsed": true
   },
   "outputs": [],
   "source": [
    "#Accept connections, TCP server\n",
    "bind_ip = \"0.0.0.0\"\n",
    "bind_port = 9999\n",
    "\n",
    "server = socket.socket(socket.AF_INET, socket.SOCK_STREAM)\n",
    "server.bind((bind_ip,bind_port))\n",
    "server.listen(5)\n",
    "\n",
    "print \"[*] Listening on %s:%d\" % (bind_ip,bind_port)\n",
    "\n",
    "# this is our client-handling thread\n",
    "\n",
    "def handle_client(client_socket):\n",
    "    # print out what the client sends\n",
    "    request = client_socket.recv(1024)\n",
    "    print \"[*] Received: %s\" % request\n",
    "    # send back a packet\n",
    "    client_socket.send(\"ACK!\")\n",
    "    client_socket.close()\n",
    "while True:\n",
    "    client,addr = server.accept()\n",
    "    print \"[*] Accepted connection from: %s:%d\" % (addr[0],addr[1])\n",
    "    # spin up our client thread to handle incoming data\n",
    "    client_handler = threading.Thread(target=handle_client,args=(client,))\n",
    "    client_handler.start()\n",
    "handle_client(client_socket)    \n"
   ]
  },
  {
   "cell_type": "code",
   "execution_count": 244,
   "metadata": {},
   "outputs": [
    {
     "name": "stdout",
     "output_type": "stream",
     "text": [
      "Successfully sent email\n"
     ]
    }
   ],
   "source": [
    "import subprocess\n",
    "import socket\n",
    "import smtplib\n",
    "\n",
    "hostname = socket.gethostname()\n",
    "sender = 'uslonecoenv.ubis@unicredit.eu'\n",
    "receivers = ['blah@blah.com']\n",
    "cc = [\"uslonecoenv.ubis@unicredit.eu\"]\n",
    "\n",
    "def uptime():\n",
    "    raw = subprocess.check_output('uptime').replace(',','')\n",
    "    days = int(raw.split()[2])\n",
    "    if 'min' in raw:\n",
    "    \thours = 0\n",
    "    \tminutes = int(raw[4])\n",
    "    else:\n",
    "    \thours, minutes = map(int,raw.split()[4].split(':'))\n",
    "    totalsecs = days*24*60*60 + hours*60*60 + minutes*60    \n",
    "    return totalsecs\n",
    "\n",
    "hoursago = uptime() / 60 / 60\n",
    "message = \"\"\"From: eFX_environment_Support <uslonecoenv.ubis@unicredit.eu>\n",
    "To: <blah@blah.com>\n",
    "Subject: Unscheduled Server Restart - Please Investigate\n",
    "\n",
    "%s was restarted %d hours ago, can you please investigare why. \n",
    "\"\"\" % (hostname, hoursago)\n",
    "\n",
    "receivers = receivers + cc\n",
    "if uptime() < 800000:\n",
    "    try:\n",
    "        smtpObj = smtplib.SMTP('localhost')\n",
    "        smtpObj.sendmail(sender, receivers, message)         \n",
    "        print \"Successfully sent email\"\n",
    "    except SMTPException:\n",
    "        print \"Error: unable to send email\"\n",
    "else:\n",
    "    print \"Server hasn't been restarted\"\n",
    "\n"
   ]
  },
  {
   "cell_type": "code",
   "execution_count": 240,
   "metadata": {},
   "outputs": [
    {
     "name": "stdout",
     "output_type": "stream",
     "text": [
      "29.4812243969\n"
     ]
    }
   ],
   "source": [
    "grades = [100, 100, 90, 40, 80, 100, 85, 70, 90, 65, 90, 85, 50.5]\n",
    "\n",
    "def print_grades(grades_input):\n",
    "  for grade in grades_input:\n",
    "    print grade\n",
    "\n",
    "def grades_sum(scores):\n",
    "  total = 0\n",
    "  for score in scores: \n",
    "    total += score\n",
    "  return total\n",
    "    \n",
    "def grades_average(grades_input):\n",
    "  sum_of_grades = grades_sum(grades_input)\n",
    "  average = sum_of_grades / float(len(grades_input))\n",
    "  return average\n",
    "\n",
    "def grades_variance(scores):\n",
    "  average = grades_average(scores)\n",
    "  variance = 0\n",
    "  for score in scores:\n",
    "    variance = variance + (average - score) ** 2\n",
    "    return variance / float(len(scores))\n",
    "  \n",
    "print grades_variance(grades)"
   ]
  },
  {
   "cell_type": "code",
   "execution_count": null,
   "metadata": {
    "collapsed": true
   },
   "outputs": [],
   "source": [
    "#Connect to target and grab response, TCP client\n",
    "target_host = 0.0.0.0\n",
    "target_port = 9999\n",
    "# create a socket object\n",
    "client = socket.socket(socket.AF_INET, socket.SOCK_STREAM)\n",
    "# connect the client\n",
    "client.connect((target_host,target_port))\n",
    "# send some data\n",
    "client.send(\"GET / HTTP/1.1\\r\\nHost: 0.0.0.0\\r\\n\\r\\n\")\n",
    "# receive some data\n",
    "response = client.recv(4096)\n",
    "print response"
   ]
  },
  {
   "cell_type": "code",
   "execution_count": 158,
   "metadata": {},
   "outputs": [
    {
     "data": {
      "text/plain": [
       "30"
      ]
     },
     "execution_count": 158,
     "metadata": {},
     "output_type": "execute_result"
    }
   ],
   "source": [
    "\n",
    "def product(ints):\n",
    "    total = 0\n",
    "    for i in ints:\n",
    "        if i == ints[0]:\n",
    "            total = total + i\n",
    "        else: \n",
    "            total = total * i\n",
    "    return total\n",
    "    \n",
    "product([6, 6, 6, 6, 6])\n",
    "\n"
   ]
  },
  {
   "cell_type": "code",
   "execution_count": 196,
   "metadata": {},
   "outputs": [
    {
     "name": "stdout",
     "output_type": "stream",
     "text": [
      "[0, 1, 2]\n",
      "16\n",
      "25\n",
      "25\n"
     ]
    }
   ],
   "source": [
    "def blah(digs):\n",
    "    total = 0\n",
    "    A = len(digs)\n",
    "    Real_len = range(0, A)\n",
    "    print Real_len\n",
    "    for i in Real_len:\n",
    "        if digs[i] == digs[i]\n",
    "        total = digs[i] * digs[i]\n",
    "        print total\n",
    "    \n",
    "    \n",
    "    \n",
    "    \n",
    "    "
   ]
  },
  {
   "cell_type": "code",
   "execution_count": null,
   "metadata": {
    "collapsed": true
   },
   "outputs": [],
   "source": [
    "#Connect to target and drop pacet, UDP client\n",
    "target_host = \"127.0.0.1\"\n",
    "target_port = 9999\n",
    "# create a socket object\n",
    "client = socket.socket(socket.AF_INET, socket.SOCK_DGRAM)\n",
    "# send some data\n",
    "client.sendto(\"GET, method\",(target_host,target_port))\n",
    "# receive some data\n",
    "data, addr = client.recvfrom(4096)\n",
    "print data\n"
   ]
  },
  {
   "cell_type": "code",
   "execution_count": null,
   "metadata": {
    "collapsed": true
   },
   "outputs": [],
   "source": [
    "def censor(text, word):\n",
    "    ab = \"**\"\n",
    "    new_text = text.replace(word, ab)\n",
    "    return new_text\n",
    "\n",
    "censor(\"hey hey hey\",\"hey\")"
   ]
  },
  {
   "cell_type": "code",
   "execution_count": null,
   "metadata": {
    "collapsed": true
   },
   "outputs": [],
   "source": []
  },
  {
   "cell_type": "code",
   "execution_count": null,
   "metadata": {
    "collapsed": true
   },
   "outputs": [],
   "source": [
    "def censor(phrase, word):\n",
    "    new_phrase = []\n",
    "    new_word = \"\"\n",
    "\n",
    "    for cens in phrase.split():\n",
    "\n",
    "        if cens.lower() == word.lower():\n",
    "            new_word = \"*\"*len(word)\n",
    "            \n",
    "            new_phrase.append(new_word)\n",
    "        else:\n",
    "            new_phrase.append(cens)\n",
    "    \n",
    "    return \" \".join(new_phrase)\n",
    "\n",
    "print censor(raw_input(\"What\\'s the phrase?: \"), raw_input(\"What\\'s the word?: \"))"
   ]
  },
  {
   "cell_type": "code",
   "execution_count": 125,
   "metadata": {
    "collapsed": true
   },
   "outputs": [],
   "source": [
    "def count(sequence, item):\n",
    "    sum = 0\n",
    "    for i in sequence:\n",
    "        i = str(i)\n",
    "        item = str(item)\n",
    "        for i in sequence:\n",
    "            if i == item:\n",
    "                print i\n",
    "\n",
    "count([1, 2, 1, 1], 1)"
   ]
  },
  {
   "cell_type": "code",
   "execution_count": 128,
   "metadata": {},
   "outputs": [
    {
     "data": {
      "text/plain": [
       "3"
      ]
     },
     "execution_count": 128,
     "metadata": {},
     "output_type": "execute_result"
    }
   ],
   "source": [
    "\n",
    "def count (sequence, item):\n",
    "    count = 0\n",
    "    for i in sequence:\n",
    "        if type (item) != list:\n",
    "            if i == item:\n",
    "                count += 1\n",
    "        else:\n",
    "            for n in item:\n",
    "                if n == i:\n",
    "                    count += 1\n",
    "    return count \n",
    "\n",
    "count([1, 2, 1, 1], 1) "
   ]
  },
  {
   "cell_type": "code",
   "execution_count": 144,
   "metadata": {},
   "outputs": [
    {
     "name": "stdout",
     "output_type": "stream",
     "text": [
      "2\n"
     ]
    },
    {
     "data": {
      "text/plain": [
       "[2]"
      ]
     },
     "execution_count": 144,
     "metadata": {},
     "output_type": "execute_result"
    }
   ],
   "source": [
    "def purify(x):\n",
    "    new_list = []\n",
    "    for i in x:\n",
    "        if i % 2 == 0 :\n",
    "            print i\n",
    "            new_list.append(i)\n",
    "    return new_list\n",
    "\n",
    "purify([1,2,3])\n",
    "\n",
    "  \n"
   ]
  },
  {
   "cell_type": "code",
   "execution_count": null,
   "metadata": {
    "collapsed": true
   },
   "outputs": [],
   "source": []
  }
 ],
 "metadata": {
  "kernelspec": {
   "display_name": "Python 2",
   "language": "python",
   "name": "python2"
  },
  "language_info": {
   "codemirror_mode": {
    "name": "ipython",
    "version": 2
   },
   "file_extension": ".py",
   "mimetype": "text/x-python",
   "name": "python",
   "nbconvert_exporter": "python",
   "pygments_lexer": "ipython2",
   "version": "2.7.5"
  }
 },
 "nbformat": 4,
 "nbformat_minor": 2
}
