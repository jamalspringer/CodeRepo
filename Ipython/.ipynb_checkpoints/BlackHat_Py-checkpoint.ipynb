{
 "cells": [
  {
   "cell_type": "code",
   "execution_count": null,
   "metadata": {
    "collapsed": true
   },
   "outputs": [],
   "source": [
    "import socket\n",
    "import threading "
   ]
  },
  {
   "cell_type": "code",
   "execution_count": null,
   "metadata": {},
   "outputs": [],
   "source": [
    "\n",
    "Hosts = []\n",
    "print type(Hosts)\n"
   ]
  },
  {
   "cell_type": "code",
   "execution_count": null,
   "metadata": {},
   "outputs": [],
   "source": [
    "#Accept connections, TCP server\n",
    "bind_ip = \"0.0.0.0\"\n",
    "bind_port = 9999\n",
    "\n",
    "server = socket.socket(socket.AF_INET, socket.SOCK_STREAM)\n",
    "server.bind((bind_ip,bind_port))\n",
    "server.listen(5)\n",
    "\n",
    "print \"[*] Listening on %s:%d\" % (bind_ip,bind_port)\n",
    "\n",
    "# this is our client-handling thread\n",
    "\n",
    "def handle_client(client_socket):\n",
    "    # print out what the client sends\n",
    "    request = client_socket.recv(1024)\n",
    "    print \"[*] Received: %s\" % request\n",
    "    # send back a packet\n",
    "    client_socket.send(\"ACK!\")\n",
    "    client_socket.close()\n",
    "while True:\n",
    "    client,addr = server.accept()\n",
    "    print \"[*] Accepted connection from: %s:%d\" % (addr[0],addr[1])\n",
    "    # spin up our client thread to handle incoming data\n",
    "    client_handler = threading.Thread(target=handle_client,args=(client,))\n",
    "    client_handler.start()\n",
    "handle_client(client_socket)    \n"
   ]
  },
  {
   "cell_type": "code",
   "execution_count": null,
   "metadata": {
    "collapsed": true
   },
   "outputs": [],
   "source": [
    "#Connect to target and grab response, TCP client\n",
    "target_host = 0.0.0.0\n",
    "target_port = 9999\n",
    "# create a socket object\n",
    "client = socket.socket(socket.AF_INET, socket.SOCK_STREAM)\n",
    "# connect the client\n",
    "client.connect((target_host,target_port))\n",
    "# send some data\n",
    "client.send(\"GET / HTTP/1.1\\r\\nHost: 0.0.0.0\\r\\n\\r\\n\")\n",
    "# receive some data\n",
    "response = client.recv(4096)\n",
    "print response"
   ]
  },
  {
   "cell_type": "code",
   "execution_count": null,
   "metadata": {
    "collapsed": true
   },
   "outputs": [],
   "source": [
    "#Connect to target and drop pacet, UDP client\n",
    "target_host = \"127.0.0.1\"\n",
    "target_port = 9999\n",
    "# create a socket object\n",
    "client = socket.socket(socket.AF_INET, socket.SOCK_DGRAM)\n",
    "# send some data\n",
    "client.sendto(\"GET, method\",(target_host,target_port))\n",
    "# receive some data\n",
    "data, addr = client.recvfrom(4096)\n",
    "print data\n"
   ]
  },
  {
   "cell_type": "code",
   "execution_count": null,
   "metadata": {},
   "outputs": [],
   "source": [
    "def censor(text, word):\n",
    "    ab = \"**\"\n",
    "    new_text = text.replace(word, ab)\n",
    "    return new_text\n",
    "\n",
    "censor(\"hey hey hey\",\"hey\")"
   ]
  },
  {
   "cell_type": "code",
   "execution_count": null,
   "metadata": {
    "collapsed": true
   },
   "outputs": [],
   "source": []
  },
  {
   "cell_type": "code",
   "execution_count": null,
   "metadata": {},
   "outputs": [],
   "source": [
    "def censor(phrase, word):\n",
    "    new_phrase = []\n",
    "    new_word = \"\"\n",
    "\n",
    "    for cens in phrase.split():\n",
    "\n",
    "        if cens.lower() == word.lower():\n",
    "            new_word = \"*\"*len(word)\n",
    "            \n",
    "            new_phrase.append(new_word)\n",
    "        else:\n",
    "            new_phrase.append(cens)\n",
    "    \n",
    "    return \" \".join(new_phrase)\n",
    "\n",
    "print censor(raw_input(\"What\\'s the phrase?: \"), raw_input(\"What\\'s the word?: \"))"
   ]
  },
  {
   "cell_type": "code",
   "execution_count": null,
   "metadata": {
    "collapsed": true
   },
   "outputs": [],
   "source": [
    "def count(sequence, item):\n",
    "    \n"
   ]
  },
  {
   "cell_type": "code",
   "execution_count": null,
   "metadata": {
    "collapsed": true
   },
   "outputs": [],
   "source": []
  }
 ],
 "metadata": {
  "kernelspec": {
   "display_name": "Python 2",
   "language": "python",
   "name": "python2"
  },
  "language_info": {
   "codemirror_mode": {
    "name": "ipython",
    "version": 2
   },
   "file_extension": ".py",
   "mimetype": "text/x-python",
   "name": "python",
   "nbconvert_exporter": "python",
   "pygments_lexer": "ipython2",
   "version": "2.7.5"
  }
 },
 "nbformat": 4,
 "nbformat_minor": 2
}
