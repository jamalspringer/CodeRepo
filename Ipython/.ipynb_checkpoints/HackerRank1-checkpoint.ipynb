{
 "cells": [
  {
   "cell_type": "code",
   "execution_count": 1,
   "metadata": {
    "collapsed": true
   },
   "outputs": [],
   "source": [
    "import random"
   ]
  },
  {
   "cell_type": "code",
   "execution_count": 12,
   "metadata": {},
   "outputs": [],
   "source": [
    "n = random.randrange(1, 100)"
   ]
  },
  {
   "cell_type": "code",
   "execution_count": 21,
   "metadata": {},
   "outputs": [
    {
     "name": "stdout",
     "output_type": "stream",
     "text": [
      "It's Even\n",
      "It's Outside the inclusive range of 2 to 5\n",
      "It's Outside the inclusive range of 6 to 20\n",
      "It's greater than 20 & even\n"
     ]
    }
   ],
   "source": [
    "\n",
    "if (n % 2 == 0): \n",
    "    print \"It's Even\"\n",
    "else:\n",
    "    print \"It's odd\"\n",
    "#####\n",
    "if n >= 2 and n <= 5:\n",
    "    print \"It's in the inclusive range of 2 to 5\"\n",
    "else:\n",
    "    print \"It's Outside the inclusive range of 2 to 5\"\n",
    "####\n",
    "if n >= 6 and n <= 20:\n",
    "    print \"It's in the inclusive range of 6 to 20\"\n",
    "else:\n",
    "    print \"It's Outside the inclusive range of 6 to 20\"\n",
    "####\n",
    "if n % 2 == 0 and n > 20:\n",
    "    print \"It's greater than 20 & even\"\n",
    "####\n",
    "\n",
    "    "
   ]
  },
  {
   "cell_type": "code",
   "execution_count": 22,
   "metadata": {},
   "outputs": [
    {
     "name": "stdout",
     "output_type": "stream",
     "text": [
      "54\n"
     ]
    }
   ],
   "source": [
    "print n"
   ]
  }
 ],
 "metadata": {
  "kernelspec": {
   "display_name": "Python 2",
   "language": "python",
   "name": "python2"
  },
  "language_info": {
   "codemirror_mode": {
    "name": "ipython",
    "version": 2
   },
   "file_extension": ".py",
   "mimetype": "text/x-python",
   "name": "python",
   "nbconvert_exporter": "python",
   "pygments_lexer": "ipython2",
   "version": "2.7.5"
  }
 },
 "nbformat": 4,
 "nbformat_minor": 2
}
