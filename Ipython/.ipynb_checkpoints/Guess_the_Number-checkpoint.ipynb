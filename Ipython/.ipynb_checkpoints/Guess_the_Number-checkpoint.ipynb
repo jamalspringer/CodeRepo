{
 "cells": [
  {
   "cell_type": "code",
   "execution_count": 2,
   "metadata": {
    "collapsed": true
   },
   "outputs": [],
   "source": [
    "\n",
    "import random\n"
   ]
  },
  {
   "cell_type": "code",
   "execution_count": 3,
   "metadata": {},
   "outputs": [
    {
     "name": "stdout",
     "output_type": "stream",
     "text": [
      "Welcome to Guess The Number\n",
      "\n",
      "A very simple game indeed, there's a range from 1-10 and you need to guess what the number is\n",
      "\n",
      "Give it a try\n"
     ]
    }
   ],
   "source": [
    "\n",
    "print \"Welcome to Guess The Number\"\n",
    "print\n",
    "print \"A very simple game indeed, there's a range from 1-10 and you need to guess what the number is\"\n",
    "print\n",
    "print \"Give it a try\"\n"
   ]
  },
  {
   "cell_type": "code",
   "execution_count": 11,
   "metadata": {},
   "outputs": [],
   "source": [
    "\n",
    "def Gameplay():\n",
    "    Number = random.randint(1, 10)\n",
    "    Answer = input (\"Please guess the number\")\n",
    "    if Answer == Number:\n",
    "        print \"Congratulations, you were correct !!!\"\n",
    "    else:\n",
    "        print \"Unfortunately, you were not correct. Please try again\"\n",
    "    Gameplay()\n",
    "\n"
   ]
  },
  {
   "cell_type": "code",
   "execution_count": null,
   "metadata": {},
   "outputs": [
    {
     "name": "stdout",
     "output_type": "stream",
     "text": [
      "Please guess the number5\n",
      "Unfortunately, you were not correct. Please try again\n",
      "Please guess the number5\n",
      "Unfortunately, you were not correct. Please try again\n",
      "Please guess the number5\n",
      "Unfortunately, you were not correct. Please try again\n",
      "Please guess the number5\n",
      "Unfortunately, you were not correct. Please try again\n",
      "Please guess the number5\n",
      "Congratulation, you were correct !!!\n",
      "Please guess the number5\n",
      "Unfortunately, you were not correct. Please try again\n",
      "Please guess the number5\n",
      "Unfortunately, you were not correct. Please try again\n",
      "Please guess the number5\n",
      "Unfortunately, you were not correct. Please try again\n",
      "Please guess the number5\n",
      "Unfortunately, you were not correct. Please try again\n",
      "Please guess the number55\n",
      "Unfortunately, you were not correct. Please try again\n",
      "Please guess the number5\n",
      "Unfortunately, you were not correct. Please try again\n",
      "Please guess the number5\n",
      "Congratulation, you were correct !!!\n",
      "Please guess the number5\n",
      "Unfortunately, you were not correct. Please try again\n"
     ]
    }
   ],
   "source": [
    "\n",
    "Gameplay()"
   ]
  }
 ],
 "metadata": {
  "kernelspec": {
   "display_name": "Python 2",
   "language": "python",
   "name": "python2"
  },
  "language_info": {
   "codemirror_mode": {
    "name": "ipython",
    "version": 2
   },
   "file_extension": ".py",
   "mimetype": "text/x-python",
   "name": "python",
   "nbconvert_exporter": "python",
   "pygments_lexer": "ipython2",
   "version": "2.7.13"
  }
 },
 "nbformat": 4,
 "nbformat_minor": 2
}
