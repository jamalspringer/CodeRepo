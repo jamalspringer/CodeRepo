{
 "cells": [
  {
   "cell_type": "code",
   "execution_count": 68,
   "metadata": {},
   "outputs": [
    {
     "name": "stdout",
     "output_type": "stream",
     "text": [
      "Great, the request worked, status code is 200\n",
      "{\n",
      "   \"results\" : [\n",
      "      {\n",
      "         \"address_components\" : [\n",
      "            {\n",
      "               \"long_name\" : \"E6 6DP\",\n",
      "               \"short_name\" : \"E6 6DP\",\n",
      "               \"types\" : [ \"postal_code\" ]\n",
      "            },\n",
      "            {\n",
      "               \"long_name\" : \"White Horse Road\",\n",
      "               \"short_name\" : \"White Horse Rd\",\n",
      "               \"types\" : [ \"route\" ]\n",
      "            },\n",
      "            {\n",
      "               \"long_name\" : \"London\",\n",
      "               \"short_name\" : \"London\",\n",
      "               \"types\" : [ \"postal_town\" ]\n",
      "            },\n",
      "            {\n",
      "               \"long_name\" : \"Greater London\",\n",
      "               \"short_name\" : \"Greater London\",\n",
      "               \"types\" : [ \"administrative_area_level_2\", \"political\" ]\n",
      "            },\n",
      "            {\n",
      "               \"long_name\" : \"England\",\n",
      "               \"short_name\" : \"England\",\n",
      "               \"types\" : [ \"administrative_area_level_1\", \"political\" ]\n",
      "            },\n",
      "            {\n",
      "               \"long_name\" : \"United Kingdom\",\n",
      "               \"short_name\" : \"GB\",\n",
      "               \"types\" : [ \"country\", \"political\" ]\n",
      "            }\n",
      "         ],\n",
      "         \"formatted_address\" : \"White Horse Rd, London E6 6DP, UK\",\n",
      "         \"geometry\" : {\n",
      "            \"bounds\" : {\n",
      "               \"northeast\" : {\n",
      "                  \"lat\" : 51.5273178,\n",
      "                  \"lng\" : 0.05931860000000001\n",
      "               },\n",
      "               \"southwest\" : {\n",
      "                  \"lat\" : 51.5264552,\n",
      "                  \"lng\" : 0.0573647\n",
      "               }\n",
      "            },\n",
      "            \"location\" : {\n",
      "               \"lat\" : 51.5270689,\n",
      "               \"lng\" : 0.0582638\n",
      "            },\n",
      "            \"location_type\" : \"APPROXIMATE\",\n",
      "            \"viewport\" : {\n",
      "               \"northeast\" : {\n",
      "                  \"lat\" : 51.5282354802915,\n",
      "                  \"lng\" : 0.05969063029150203\n",
      "               },\n",
      "               \"southwest\" : {\n",
      "                  \"lat\" : 51.5255375197085,\n",
      "                  \"lng\" : 0.05699266970849796\n",
      "               }\n",
      "            }\n",
      "         },\n",
      "         \"place_id\" : \"ChIJTQebczCm2EcRt00FFe27w_I\",\n",
      "         \"types\" : [ \"postal_code\" ]\n",
      "      }\n",
      "   ],\n",
      "   \"status\" : \"OK\"\n",
      "}\n",
      "\n"
     ]
    }
   ],
   "source": [
    "#Google Geocoding API usage\n",
    "\n",
    "import requests\n",
    "import json\n",
    "import xml\n",
    "url = \"https://maps.googleapis.com/maps/api/geocode/json?&address=e6%206dp\"\n",
    "url2 = \"http://www.investing.com/rates-bonds/euro-bobl\"\n",
    "\n",
    "def geocoding(url):\n",
    "    response = requests.get(url)\n",
    "    if response.status_code >= 200 and response.status_code < 300:\n",
    "        print (\"Great, the request worked, status code is %s\" % response.status_code)\n",
    "        print (response.content.decode(\"utf-8\"))\n",
    "    else:\n",
    "        status_code = response.status_code\n",
    "        return (\"Status code %s was returned\" % status_code)\n",
    "    \n",
    "geocoding(url)\n",
    "    "
   ]
  },
  {
   "cell_type": "code",
   "execution_count": 115,
   "metadata": {},
   "outputs": [
    {
     "name": "stdout",
     "output_type": "stream",
     "text": [
      "Response code is 200\n"
     ]
    }
   ],
   "source": [
    "import requests\n",
    "import json\n",
    "import lxml\n",
    "\n",
    "api = \"https://maps.googleapis.com/maps/api/geocode/json?&address=\"\n",
    "#address = input(\"Insert address or postcode here: \")\n",
    "address = \"E17 9LJ\"\n",
    "url = api + address\n",
    "response = requests.get(url)\n",
    "print (\"Response code is %s\" % response.status_code)\n",
    "if response.status_code == 200:\n",
    "    Fomatted_content =  (response.content.decode(\"utf -8\"))\n",
    "    json_content = json.loads(Fomatted_content)\n",
    "    #print (json_content)\n",
    "    #for i in json_content:\n",
    "    #    if i == \"results\":\n",
    "            #print (\"address_components\")\n",
    "    #print ((i) + i[0::])\n",
    "    "
   ]
  },
  {
   "cell_type": "code",
   "execution_count": 28,
   "metadata": {},
   "outputs": [
    {
     "name": "stdout",
     "output_type": "stream",
     "text": [
      "<class 'dict'>\n"
     ]
    }
   ],
   "source": [
    "apiresult = {\n",
    "   \"results\" : [\n",
    "      {\n",
    "         \"address_components\" : [\n",
    "            {\n",
    "               \"long_name\" : \"E6 6DP\",\n",
    "               \"short_name\" : \"E6 6DP\",\n",
    "               \"types\" : [ \"postal_code\" ]\n",
    "            },\n",
    "            {\n",
    "               \"long_name\" : \"White Horse Road\",\n",
    "               \"short_name\" : \"White Horse Rd\",\n",
    "               \"types\" : [ \"route\" ]\n",
    "            },\n",
    "            {\n",
    "               \"long_name\" : \"London\",\n",
    "               \"short_name\" : \"London\",\n",
    "               \"types\" : [ \"postal_town\" ]\n",
    "            },\n",
    "            {\n",
    "               \"long_name\" : \"Greater London\",\n",
    "               \"short_name\" : \"Greater London\",\n",
    "               \"types\" : [ \"administrative_area_level_2\", \"political\" ]\n",
    "            },\n",
    "            {\n",
    "               \"long_name\" : \"England\",\n",
    "               \"short_name\" : \"England\",\n",
    "               \"types\" : [ \"administrative_area_level_1\", \"political\" ]\n",
    "            },\n",
    "            {\n",
    "               \"long_name\" : \"United Kingdom\",\n",
    "               \"short_name\" : \"GB\",\n",
    "               \"types\" : [ \"country\", \"political\" ]\n",
    "            }\n",
    "         ],\n",
    "         \"formatted_address\" : \"White Horse Rd, London E6 6DP, UK\",\n",
    "         \"geometry\" : {\n",
    "            \"bounds\" : {\n",
    "               \"northeast\" : {\n",
    "                  \"lat\" : 51.5273178,\n",
    "                  \"lng\" : 0.05931860000000001\n",
    "               },\n",
    "               \"southwest\" : {\n",
    "                  \"lat\" : 51.5264552,\n",
    "                  \"lng\" : 0.0573647\n",
    "               }\n",
    "            },\n",
    "            \"location\" : {\n",
    "               \"lat\" : 51.5270689,\n",
    "               \"lng\" : 0.0582638\n",
    "            },\n",
    "            \"location_type\" : \"APPROXIMATE\",\n",
    "            \"viewport\" : {\n",
    "               \"northeast\" : {\n",
    "                  \"lat\" : 51.5282354802915,\n",
    "                  \"lng\" : 0.05969063029150203\n",
    "               },\n",
    "               \"southwest\" : {\n",
    "                  \"lat\" : 51.5255375197085,\n",
    "                  \"lng\" : 0.05699266970849796\n",
    "               }\n",
    "            }\n",
    "         },\n",
    "         \"place_id\" : \"ChIJTQebczCm2EcRt00FFe27w_I\",\n",
    "         \"types\" : [ \"postal_code\" ]\n",
    "      }\n",
    "   ],\n",
    "   \"status\" : \"OK\"\n",
    "}\n",
    "\n",
    "print (type(apiresult))"
   ]
  },
  {
   "cell_type": "code",
   "execution_count": 1,
   "metadata": {},
   "outputs": [
    {
     "data": {
      "text/plain": [
       "104417"
      ]
     },
     "execution_count": 1,
     "metadata": {},
     "output_type": "execute_result"
    }
   ],
   "source": [
    "import requests\n",
    "import json\n",
    "import lxml\n",
    "\n",
    "def get_price(ticker):\n",
    "    bbg_url = \"https://www.bloomberg.com/quote/\"\n",
    "    response = requests.get(bbg_url + str(ticker))\n",
    "    response_code = (response.status_code)\n",
    "    if response_code == 200:\n",
    "        contents =  (response.content.decode('utf-8'))\n",
    "        return contents.find(\"lastPrice\")\n",
    "    else:\n",
    "        return (\"Issue with url, please check!\")\n",
    "    \n",
    "    \n",
    "\n",
    "\n",
    "get_price(\"AAPL:US\")\n",
    "\n"
   ]
  },
  {
   "cell_type": "code",
   "execution_count": 118,
   "metadata": {},
   "outputs": [
    {
     "name": "stdout",
     "output_type": "stream",
     "text": [
      "[6]\n"
     ]
    }
   ],
   "source": [
    "doubles_by_3 = [x * 2 for x in range(1, 6) if (x * 2) % 3 == 0]\n",
    "\n",
    "print (doubles_by_3)"
   ]
  },
  {
   "cell_type": "code",
   "execution_count": null,
   "metadata": {
    "collapsed": true
   },
   "outputs": [],
   "source": []
  }
 ],
 "metadata": {
  "kernelspec": {
   "display_name": "Python 3",
   "language": "python",
   "name": "python3"
  },
  "language_info": {
   "codemirror_mode": {
    "name": "ipython",
    "version": 3
   },
   "file_extension": ".py",
   "mimetype": "text/x-python",
   "name": "python",
   "nbconvert_exporter": "python",
   "pygments_lexer": "ipython3",
   "version": "3.6.1"
  }
 },
 "nbformat": 4,
 "nbformat_minor": 2
}
