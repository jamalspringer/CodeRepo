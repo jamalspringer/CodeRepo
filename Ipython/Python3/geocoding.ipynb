{
 "cells": [
  {
   "cell_type": "code",
   "execution_count": 2,
   "metadata": {},
   "outputs": [
    {
     "name": "stdout",
     "output_type": "stream",
     "text": [
      "Collecting geopy\n"
     ]
    },
    {
     "name": "stderr",
     "output_type": "stream",
     "text": [
      "  Retrying (Retry(total=4, connect=None, read=None, redirect=None)) after connection broken by 'ProxyError('Cannot connect to proxy.', OSError('Tunnel connection failed: 407 Proxy Authentication Required',))': /simple/geopy/\n",
      "  Retrying (Retry(total=3, connect=None, read=None, redirect=None)) after connection broken by 'ProxyError('Cannot connect to proxy.', OSError('Tunnel connection failed: 407 Proxy Authentication Required',))': /simple/geopy/\n",
      "  Retrying (Retry(total=2, connect=None, read=None, redirect=None)) after connection broken by 'ProxyError('Cannot connect to proxy.', OSError('Tunnel connection failed: 407 Proxy Authentication Required',))': /simple/geopy/\n",
      "  Retrying (Retry(total=1, connect=None, read=None, redirect=None)) after connection broken by 'ProxyError('Cannot connect to proxy.', OSError('Tunnel connection failed: 407 Proxy Authentication Required',))': /simple/geopy/\n",
      "  Retrying (Retry(total=0, connect=None, read=None, redirect=None)) after connection broken by 'ProxyError('Cannot connect to proxy.', OSError('Tunnel connection failed: 407 Proxy Authentication Required',))': /simple/geopy/\n",
      "  Could not find a version that satisfies the requirement geopy (from versions: )\n",
      "No matching distribution found for geopy\n"
     ]
    }
   ],
   "source": [
    "!pip install geopy\n",
    "#import geopy\n"
   ]
  },
  {
   "cell_type": "code",
   "execution_count": null,
   "metadata": {
    "collapsed": true
   },
   "outputs": [],
   "source": []
  },
  {
   "cell_type": "code",
   "execution_count": null,
   "metadata": {
    "collapsed": true
   },
   "outputs": [],
   "source": []
  },
  {
   "cell_type": "code",
   "execution_count": null,
   "metadata": {
    "collapsed": true
   },
   "outputs": [],
   "source": [
    "\n",
    "\n",
    "#import the csv module which we'll need to read and write our csv's\n",
    "import csv\n",
    "\n",
    "#import the shutil module which we use to create a copy of our original csv\n",
    "import shutil\n",
    "\n",
    "#import the Nominatim module from geopy, a bit more on this in the text below\n",
    "from geopy.geocoders import Nominatim\n",
    "geolocator = Nominatim()\n",
    "\n",
    "#Let's start by creating a copy of our raw file just to be safe\n",
    "shutil.copyfile(\"dirtyrestaurants2.csv\",\"dirtyrestaurants2_processed.csv\")\n",
    "\n",
    "#open the file and assign it to the var f\n",
    "f = open('dirtyrestaurants2.csv')\n",
    "\n",
    "#create a blank array called addresses\n",
    "addresses = []\n",
    "\n",
    "#use the csv reader to actually start doing stuff\n",
    "csv_f = csv.reader(f)\n",
    "# iterate through each row, and only grab column 1, and add it to the address array\n",
    "for row in csv_f:\n",
    "   addresses.append(row[1])\n",
    "   # print addresses\n",
    "\n",
    "#close our original file\n",
    "f.close()\n",
    "\n",
    "#create a new empty array called locations\n",
    "locations = []\n",
    "\n",
    "#for each value in the addresses array that we created earlier geocode it and save it to a variable called location, we'll then append that single location to the locations variable\n",
    "for index,val in enumerate(addresses):\n",
    "   location = geolocator.geocode([val], timeout=15)\n",
    "   # print index + 1, location.latitude\n",
    "   locations.append([location.latitude, location.longitude]) \n",
    "\n",
    "   \n",
    "#Create a header row for our new csv\n",
    "header = ['Name','Address','Latitude','Longitude']\n",
    "\n",
    "#open the original csv and grab all the data, place it in a var called data, and close the file again\n",
    "f = open('dirtyrestaurants2.csv')\n",
    "data = [item for item in csv.reader(f)]\n",
    "f.close()\n",
    "\n",
    "# create a blank arraycalled new_data\n",
    "new_data = []\n",
    "\n",
    "# for each item in data append a location, then add the complete item to the new data variable\n",
    "for i, item in enumerate(data):\n",
    "    item.append(locations[i][0]) #append latitude\n",
    "    item.append(locations[i][1]) #append longitude\n",
    "    new_data.append(item)\n",
    "\n",
    "#open the new csv and write the header row followed by a row for each object in the new_data array\n",
    "f = open('dirtyrestaurants2_processed.csv', 'w')\n",
    "csv.writer(f, lineterminator='\\n').writerow(header)\n",
    "csv.writer(f, lineterminator='\\n').writerows(new_data)\n",
    "f.close()\n",
    " @jspringer1992\n",
    "  \n",
    "            \n",
    " \n",
    "Write  Preview\n",
    "\n",
    "Leave a comment\n",
    "Attach files by dragging & dropping,  Choose Files selecting them, or pasting from the clipboard.\n",
    " Styling with Markdown is supported\n",
    "Comment\n",
    "Contact GitHub API Training Shop Blog About\n",
    "© 2017 GitHub, Inc. Terms Privacy Security Status Help"
   ]
  },
  {
   "cell_type": "code",
   "execution_count": 6,
   "metadata": {},
   "outputs": [
    {
     "name": "stdout",
     "output_type": "stream",
     "text": [
      "<class 'dict'>\n"
     ]
    }
   ],
   "source": [
    "\n",
    "apiresult = {\n",
    "   \"results\" : [\n",
    "      {\n",
    "         \"address_components\" : [\n",
    "            {\n",
    "               \"long_name\" : \"E17 9LJ\",\n",
    "               \"short_name\" : \"E17 9LJ\",\n",
    "               \"types\" : [ \"postal_code\" ]\n",
    "            },\n",
    "            {\n",
    "               \"long_name\" : \"Cherry Close\",\n",
    "               \"short_name\" : \"Cherry Cl\",\n",
    "               \"types\" : [ \"route\" ]\n",
    "            },\n",
    "            {\n",
    "               \"long_name\" : \"Walthamstow\",\n",
    "               \"short_name\" : \"Walthamstow\",\n",
    "               \"types\" : [ \"neighborhood\", \"political\" ]\n",
    "            },\n",
    "            {\n",
    "               \"long_name\" : \"London\",\n",
    "               \"short_name\" : \"London\",\n",
    "               \"types\" : [ \"postal_town\" ]\n",
    "            },\n",
    "            {\n",
    "               \"long_name\" : \"Greater London\",\n",
    "               \"short_name\" : \"Greater London\",\n",
    "               \"types\" : [ \"administrative_area_level_2\", \"political\" ]\n",
    "            },\n",
    "            {\n",
    "               \"long_name\" : \"England\",\n",
    "               \"short_name\" : \"England\",\n",
    "               \"types\" : [ \"administrative_area_level_1\", \"political\" ]\n",
    "            },\n",
    "            {\n",
    "               \"long_name\" : \"United Kingdom\",\n",
    "               \"short_name\" : \"GB\",\n",
    "               \"types\" : [ \"country\", \"political\" ]\n",
    "            }\n",
    "         ],\n",
    "         \"formatted_address\" : \"Cherry Cl, Walthamstow, London E17 9LJ, UK\",\n",
    "         \"geometry\" : {\n",
    "            \"bounds\" : {\n",
    "               \"northeast\" : {\n",
    "                  \"lat\" : 51.58235089999999,\n",
    "                  \"lng\" : -0.0111743\n",
    "               },\n",
    "               \"southwest\" : {\n",
    "                  \"lat\" : 51.5815369,\n",
    "                  \"lng\" : -0.0118431\n",
    "               }\n",
    "            },\n",
    "            \"location\" : {\n",
    "               \"lat\" : 51.5819336,\n",
    "               \"lng\" : -0.0116448\n",
    "            },\n",
    "            \"location_type\" : \"APPROXIMATE\",\n",
    "            \"viewport\" : {\n",
    "               \"northeast\" : {\n",
    "                  \"lat\" : 51.58329288029149,\n",
    "                  \"lng\" : -0.01015971970849797\n",
    "               },\n",
    "               \"southwest\" : {\n",
    "                  \"lat\" : 51.5805949197085,\n",
    "                  \"lng\" : -0.01285768029150203\n",
    "               }\n",
    "            }\n",
    "         },\n",
    "         \"place_id\" : \"ChIJyyGmdfIddkgRZAjeHzHX6jo\",\n",
    "         \"types\" : [ \"postal_code\" ]\n",
    "      }\n",
    "   ],\n",
    "   \"status\" : \"OK\"\n",
    "}\n",
    "\n",
    "print (type(apiresult))"
   ]
  },
  {
   "cell_type": "code",
   "execution_count": 16,
   "metadata": {},
   "outputs": [
    {
     "data": {
      "text/plain": [
       "<Response [403]>"
      ]
     },
     "execution_count": 16,
     "metadata": {},
     "output_type": "execute_result"
    }
   ],
   "source": [
    "import requests\n",
    "import json\n",
    "import lxml\n",
    "\n",
    "KOSPIurl = \"https://uk.investing.com/indices/kospi\"\n",
    "requests.get(KOSPIurl)\n",
    "\n"
   ]
  }
 ],
 "metadata": {
  "kernelspec": {
   "display_name": "Python 3",
   "language": "python",
   "name": "python3"
  },
  "language_info": {
   "codemirror_mode": {
    "name": "ipython",
    "version": 3
   },
   "file_extension": ".py",
   "mimetype": "text/x-python",
   "name": "python",
   "nbconvert_exporter": "python",
   "pygments_lexer": "ipython3",
   "version": "3.6.1"
  }
 },
 "nbformat": 4,
 "nbformat_minor": 2
}
