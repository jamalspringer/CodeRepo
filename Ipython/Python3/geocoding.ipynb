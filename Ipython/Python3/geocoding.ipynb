{
 "cells": [
  {
   "cell_type": "code",
   "execution_count": null,
   "metadata": {},
   "outputs": [],
   "source": []
  },
  {
   "cell_type": "code",
   "execution_count": null,
   "metadata": {},
   "outputs": [],
   "source": [
    "\n",
    "apiresult = {\n",
    "   \"results\" : [\n",
    "      {\n",
    "         \"address_components\" : [\n",
    "            {\n",
    "               \"long_name\" : \"E17 9LJ\",\n",
    "               \"short_name\" : \"E17 9LJ\",\n",
    "               \"types\" : [ \"postal_code\" ]\n",
    "            },\n",
    "            {\n",
    "               \"long_name\" : \"Cherry Close\",\n",
    "               \"short_name\" : \"Cherry Cl\",\n",
    "               \"types\" : [ \"route\" ]\n",
    "            },\n",
    "            {\n",
    "               \"long_name\" : \"Walthamstow\",\n",
    "               \"short_name\" : \"Walthamstow\",\n",
    "               \"types\" : [ \"neighborhood\", \"political\" ]\n",
    "            },\n",
    "            {\n",
    "               \"long_name\" : \"London\",\n",
    "               \"short_name\" : \"London\",\n",
    "               \"types\" : [ \"postal_town\" ]\n",
    "            },\n",
    "            {\n",
    "               \"long_name\" : \"Greater London\",\n",
    "               \"short_name\" : \"Greater London\",\n",
    "               \"types\" : [ \"administrative_area_level_2\", \"political\" ]\n",
    "            },\n",
    "            {\n",
    "               \"long_name\" : \"England\",\n",
    "               \"short_name\" : \"England\",\n",
    "               \"types\" : [ \"administrative_area_level_1\", \"political\" ]\n",
    "            },\n",
    "            {\n",
    "               \"long_name\" : \"United Kingdom\",\n",
    "               \"short_name\" : \"GB\",\n",
    "               \"types\" : [ \"country\", \"political\" ]\n",
    "            }\n",
    "         ],\n",
    "         \"formatted_address\" : \"Cherry Cl, Walthamstow, London E17 9LJ, UK\",\n",
    "         \"geometry\" : {\n",
    "            \"bounds\" : {\n",
    "               \"northeast\" : {\n",
    "                  \"lat\" : 51.58235089999999,\n",
    "                  \"lng\" : -0.0111743\n",
    "               },\n",
    "               \"southwest\" : {\n",
    "                  \"lat\" : 51.5815369,\n",
    "                  \"lng\" : -0.0118431\n",
    "               }\n",
    "            },\n",
    "            \"location\" : {\n",
    "               \"lat\" : 51.5819336,\n",
    "               \"lng\" : -0.0116448\n",
    "            },\n",
    "            \"location_type\" : \"APPROXIMATE\",\n",
    "            \"viewport\" : {\n",
    "               \"northeast\" : {\n",
    "                  \"lat\" : 51.58329288029149,\n",
    "                  \"lng\" : -0.01015971970849797\n",
    "               },\n",
    "               \"southwest\" : {\n",
    "                  \"lat\" : 51.5805949197085,\n",
    "                  \"lng\" : -0.01285768029150203\n",
    "               }\n",
    "            }\n",
    "         },\n",
    "         \"place_id\" : \"ChIJyyGmdfIddkgRZAjeHzHX6jo\",\n",
    "         \"types\" : [ \"postal_code\" ]\n",
    "      }\n",
    "   ],\n",
    "   \"status\" : \"OK\"\n",
    "}\n",
    "\n",
    "print (type(apiresult))"
   ]
  },
  {
   "cell_type": "code",
   "execution_count": 52,
   "metadata": {},
   "outputs": [
    {
     "data": {
      "text/plain": [
       "107596"
      ]
     },
     "execution_count": 52,
     "metadata": {},
     "output_type": "execute_result"
    }
   ],
   "source": [
    "import requests\n",
    "import json\n",
    "import lxml\n",
    "\n",
    "def get_price(ticker):\n",
    "    bbg_url = \"https://www.bloomberg.com/quote/\"\n",
    "    response = requests.get(bbg_url + str(ticker))\n",
    "    response_code = (response.status_code)\n",
    "    if response_code == 200:\n",
    "        contents =  (response.content.decode('utf-8'))\n",
    "        return contents.find(\"lastPrice\")\n",
    "    else:\n",
    "        return (\"Issue with url, please check!\")\n",
    "    \n",
    "    \n",
    "\n",
    "\n",
    "get_price(\"AAPL:US\")\n",
    "\n"
   ]
  }
 ],
 "metadata": {
  "kernelspec": {
   "display_name": "Python 3",
   "language": "python",
   "name": "python3"
  },
  "language_info": {
   "codemirror_mode": {
    "name": "ipython",
    "version": 3
   },
   "file_extension": ".py",
   "mimetype": "text/x-python",
   "name": "python",
   "nbconvert_exporter": "python",
   "pygments_lexer": "ipython3",
   "version": "3.6.1"
  }
 },
 "nbformat": 4,
 "nbformat_minor": 2
}
