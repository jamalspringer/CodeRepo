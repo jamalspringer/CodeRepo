{
 "cells": [
  {
   "cell_type": "code",
   "execution_count": null,
   "metadata": {},
   "outputs": [],
   "source": [
    "\n",
    "name1 = \"Bob\"\n",
    "name2 = name1\n",
    "print (id(name1))\n",
    "print (\"\")\n",
    "print (id(name2))\n",
    "\n",
    "\n",
    "\n",
    "\n",
    "a = 10\n",
    "b = 11\n",
    "print (max(a,b))\n",
    "help(max)"
   ]
  },
  {
   "cell_type": "code",
   "execution_count": 4,
   "metadata": {},
   "outputs": [
    {
     "name": "stdout",
     "output_type": "stream",
     "text": [
      "What is your name ? Jamal Springer\n"
     ]
    },
    {
     "data": {
      "text/plain": [
       "'OK'"
      ]
     },
     "execution_count": 4,
     "metadata": {},
     "output_type": "execute_result"
    }
   ],
   "source": [
    "import easygui\n",
    "Name = input(\"What is your name ? \")\n",
    "easygui.msgbox(\"Hello %s \" % Name)\n"
   ]
  },
  {
   "cell_type": "code",
   "execution_count": 6,
   "metadata": {},
   "outputs": [
    {
     "name": "stdout",
     "output_type": "stream",
     "text": [
      "1 2 3\n",
      "5 1 6\n"
     ]
    }
   ],
   "source": [
    "\n",
    "def func(a, b=1, c=3):\n",
    "    print(a, b, c)\n",
    "func(1, 2) \n",
    "func(5, c = 6)"
   ]
  },
  {
   "cell_type": "code",
   "execution_count": 27,
   "metadata": {},
   "outputs": [
    {
     "data": {
      "text/plain": [
       "\"My name is Jamal, what's yours ? \""
      ]
     },
     "execution_count": 27,
     "metadata": {},
     "output_type": "execute_result"
    }
   ],
   "source": [
    "\n",
    "string1 = (\"My name is ###, what's yours ? \")\n",
    "a = \"###\"\n",
    "b = \"Jamal\"\n",
    "\n",
    "string1.replace(a, b)\n",
    "#print (len(string1))\n",
    "#string2 = (\"Jamal\")\n",
    "#string1.find(\"###\")\n",
    "#print (string1[11:])\n",
    "\n",
    "\n"
   ]
  },
  {
   "cell_type": "code",
   "execution_count": 29,
   "metadata": {},
   "outputs": [
    {
     "data": {
      "text/plain": [
       "'Hi how are bodega?'"
      ]
     },
     "execution_count": 29,
     "metadata": {},
     "output_type": "execute_result"
    }
   ],
   "source": [
    "def replace(test_string, replace_string):\n",
    "    word = \"bodega\"\n",
    "    return test_string.replace(replace_string, word)\n",
    "\n",
    "replace(\"Hi how are you?\", \"you\")"
   ]
  },
  {
   "cell_type": "code",
   "execution_count": null,
   "metadata": {
    "collapsed": true
   },
   "outputs": [],
   "source": []
  }
 ],
 "metadata": {
  "kernelspec": {
   "display_name": "Python 3",
   "language": "python",
   "name": "python3"
  },
  "language_info": {
   "codemirror_mode": {
    "name": "ipython",
    "version": 3
   },
   "file_extension": ".py",
   "mimetype": "text/x-python",
   "name": "python",
   "nbconvert_exporter": "python",
   "pygments_lexer": "ipython3",
   "version": "3.6.1"
  }
 },
 "nbformat": 4,
 "nbformat_minor": 2
}
