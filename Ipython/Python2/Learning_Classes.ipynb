{
 "cells": [
  {
   "cell_type": "code",
   "execution_count": 1,
   "metadata": {
    "collapsed": true
   },
   "outputs": [],
   "source": [
    "\n",
    "\n",
    "class BarracudaOrder:\n",
    "    def __init__(self, order_id, currency_pair, fixed_symbol, direction, quantity):\n",
    "        self.order_id = order_id\n",
    "        self.currency_pair = currency_pair\n",
    "        self.fixed_symbol = fixed_symbol\n",
    "        self.direction = direction\n",
    "        self.quantity = quantity\n",
    "\n",
    "        "
   ]
  },
  {
   "cell_type": "code",
   "execution_count": 13,
   "metadata": {},
   "outputs": [],
   "source": [
    "#Classes lesson @ https://jeffknupp.com/blog/2014/06/18/improve-your-python-python-classes-and-object-oriented-programming/ \n",
    "\n",
    "class Customer(object):\n",
    "    \"\"\"A customer of ABC Bank with a checking account. Customers have the\n",
    "    following properties:\n",
    "\n",
    "    Attributes:\n",
    "        name: A string representing the customer's name.\n",
    "        balance: A float tracking the current balance of the customer's account.\n",
    "    \"\"\"\n",
    "\n",
    "    def __init__(self, name, balance=0.0):\n",
    "        \"\"\"Return a Customer object whose name is *name* and starting\n",
    "        balance is *balance*.\"\"\"\n",
    "        self.name = name\n",
    "        self.balance = balance\n",
    "\n",
    "    def withdraw(self, amount):\n",
    "        \"\"\"Return the balance remaining after withdrawing *amount*\n",
    "        dollars.\"\"\"\n",
    "        if amount > self.balance:\n",
    "            raise RuntimeError('Amount greater than available balance.')\n",
    "        self.balance -= amount\n",
    "        return self.balance\n",
    "\n",
    "    def deposit(self, amount):\n",
    "        \"\"\"Return the balance remaining after depositing *amount*\n",
    "        dollars.\"\"\"\n",
    "        self.balance += amount\n",
    "        return self.balance\n"
   ]
  },
  {
   "cell_type": "code",
   "execution_count": 19,
   "metadata": {},
   "outputs": [
    {
     "name": "stdout",
     "output_type": "stream",
     "text": [
      "200.0\n"
     ]
    }
   ],
   "source": [
    "BMiller = Customer(\"Bob Miller\", 100.00)\n",
    "BMiller.deposit(100)\n",
    "print BMiller.balance"
   ]
  }
 ],
 "metadata": {
  "kernelspec": {
   "display_name": "Python 2",
   "language": "python",
   "name": "python2"
  },
  "language_info": {
   "codemirror_mode": {
    "name": "ipython",
    "version": 2
   },
   "file_extension": ".py",
   "mimetype": "text/x-python",
   "name": "python",
   "nbconvert_exporter": "python",
   "pygments_lexer": "ipython2",
   "version": "2.7.13"
  }
 },
 "nbformat": 4,
 "nbformat_minor": 2
}
