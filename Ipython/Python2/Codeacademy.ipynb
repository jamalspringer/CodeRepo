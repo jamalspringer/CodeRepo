{
 "cells": [
  {
   "cell_type": "code",
   "execution_count": null,
   "metadata": {
    "collapsed": true
   },
   "outputs": [],
   "source": [
    "\n",
    "animals = \"catdogfrog\"\n",
    "cat  = animals[:3]   # The first three characters of animals\n",
    "dog  = animals[3:6]              # The fourth through sixth characters\n",
    "frog = animals[6:]              # From the seventh character to the end\n",
    "\n",
    "print cat\n",
    "print dog\n",
    "print frog"
   ]
  },
  {
   "cell_type": "code",
   "execution_count": null,
   "metadata": {},
   "outputs": [],
   "source": [
    "\n",
    "my_list = [\"Jamal\", \"Denise\", \"Kids\"]\n",
    "print my_list.index(\"Jamal\")\n"
   ]
  },
  {
   "cell_type": "code",
   "execution_count": null,
   "metadata": {},
   "outputs": [],
   "source": [
    "inventory = {\n",
    "    'gold' : 500,\n",
    "    'pouch' : ['flint', 'twine', 'gemstone'], # Assigned a new list to 'pouch' key\n",
    "    'backpack' : ['xylophone','dagger', 'bedroll','bread loaf']\n",
    "}\n",
    "\n",
    "inventory[\"pocket\"] = [\"seashell\", \"strangeberry\", \"lint\"]\n",
    "\n",
    "ex = inventory[\"pocket\"]\n",
    "for i in ex:\n",
    "    print i"
   ]
  },
  {
   "cell_type": "code",
   "execution_count": null,
   "metadata": {
    "collapsed": true
   },
   "outputs": [],
   "source": [
    "\n",
    "shopping_list = [\"banana\", \"orange\", \"apple\"]\n",
    "\n",
    "stock = {\n",
    "    \"banana\": 6,\n",
    "    \"apple\": 0,\n",
    "    \"orange\": 32,\n",
    "    \"pear\": 15\n",
    "}\n",
    "    \n",
    "prices = {\n",
    "    \"banana\": 4,\n",
    "    \"apple\": 2,\n",
    "    \"orange\": 1.5,\n",
    "    \"pear\": 3\n",
    "}\n",
    "\n",
    "# Write your code below!\n",
    "def compute_bill(food):\n",
    "    total = 0\n",
    "    for i in food:\n",
    "        if stock[i] > 0:\n",
    "            total = total + prices[i]\n",
    "            stock[i] = stock[i] - 1\n",
    "    return total\n",
    "\n"
   ]
  },
  {
   "cell_type": "code",
   "execution_count": 14,
   "metadata": {},
   "outputs": [
    {
     "ename": "IndentationError",
     "evalue": "unexpected indent (<ipython-input-14-0fc5ebed2a86>, line 6)",
     "output_type": "error",
     "traceback": [
      "\u001b[1;36m  File \u001b[1;32m\"<ipython-input-14-0fc5ebed2a86>\"\u001b[1;36m, line \u001b[1;32m6\u001b[0m\n\u001b[1;33m    for i in A:\u001b[0m\n\u001b[1;37m    ^\u001b[0m\n\u001b[1;31mIndentationError\u001b[0m\u001b[1;31m:\u001b[0m unexpected indent\n"
     ]
    }
   ],
   "source": [
    "def is_prime(x):\n",
    "  if x < 2:\n",
    "    return False\n",
    "  else:\n",
    "    A = range(x)\n",
    "  for i in A:\n",
    "    \tif i >= 2 and i < x:\n",
    "      \tif x % i == 0:\n",
    "        \treturn True\n",
    "      \telse:\n",
    "        \treturn False\n"
   ]
  },
  {
   "cell_type": "code",
   "execution_count": 36,
   "metadata": {},
   "outputs": [
    {
     "name": "stdout",
     "output_type": "stream",
     "text": [
      "[0, 1, 2, 3, 4, 5, 6, 7, 8, 9]\n"
     ]
    }
   ],
   "source": [
    "po = 10\n",
    "print range(po)"
   ]
  },
  {
   "cell_type": "code",
   "execution_count": 35,
   "metadata": {},
   "outputs": [
    {
     "name": "stdout",
     "output_type": "stream",
     "text": [
      "0\n",
      "1\n"
     ]
    }
   ],
   "source": [
    "x = 3\n",
    "y = range(x)\n",
    "for i in y:\n",
    "    if i > 0:\n",
    "        print x % i"
   ]
  },
  {
   "cell_type": "code",
   "execution_count": 57,
   "metadata": {},
   "outputs": [
    {
     "data": {
      "text/plain": [
       "True"
      ]
     },
     "execution_count": 57,
     "metadata": {},
     "output_type": "execute_result"
    }
   ],
   "source": [
    "def is_prime(x):\n",
    "  if x < 2:\n",
    "    return False\n",
    "  else:\n",
    "    if x >= 2:\n",
    "    \tA = range(x)\n",
    "    \tfor i in A:\n",
    "      \t\tif i > 2 and i < x:\n",
    "        \t\tif x % i == 0:\n",
    "          \t\t\treturn True\n",
    "        \t\telse:\n",
    "          \t\t\treturn False\n",
    "                \n",
    "is_prime(21)"
   ]
  },
  {
   "cell_type": "code",
   "execution_count": 60,
   "metadata": {},
   "outputs": [
    {
     "name": "stdout",
     "output_type": "stream",
     "text": [
      "2\n",
      "3\n",
      "4\n"
     ]
    }
   ],
   "source": [
    "def is_prime(x):\n",
    "  if x < 2:\n",
    "    return False\n",
    "  elif x == 2:\n",
    "      return True\n",
    "  elif x == 3:\n",
    "    return True\n",
    "  else:\n",
    "    \tfor n in range(2, x):\n",
    "            print n\n",
    "            \n",
    "#####################################\n",
    "\n",
    "def is_prime(x):\n",
    "  if x < 2:\n",
    "    return False\n",
    "  elif x == 2:\n",
    "      return True\n",
    "  elif x == 3:\n",
    "    return True\n",
    "  else:\n",
    "    \tfor n in range(2, x):\n",
    "        \tif x % n == 0:\n",
    "          \t\treturn False\n",
    "            \tbreak\n",
    "       \t\telse:\n",
    "          \t\treturn True\t"
   ]
  },
  {
   "cell_type": "code",
   "execution_count": 88,
   "metadata": {},
   "outputs": [
    {
     "name": "stdout",
     "output_type": "stream",
     "text": [
      "<type 'str'>\n",
      "<type 'list'>\n",
      "J\n",
      "a\n",
      "m\n",
      "a\n",
      "l\n",
      "[0, 1, 2, 3, 4]\n",
      "J\n",
      "a\n",
      "m\n",
      "a\n",
      "l\n"
     ]
    }
   ],
   "source": [
    "\n",
    "\n",
    "text = \"Jamal\"\n",
    "print type(text)\n",
    "text = list(text)\n",
    "print type(text)\n",
    "for i in text:\n",
    "    print i\n",
    "a =  len(text)\n",
    "print range(a).\n",
    "for i in range(a):\n",
    "    print text[i]\n",
    "\n",
    "\n",
    "\n"
   ]
  },
  {
   "cell_type": "code",
   "execution_count": 157,
   "metadata": {},
   "outputs": [
    {
     "name": "stdout",
     "output_type": "stream",
     "text": [
      "5\n",
      "[5, 4, 3, 2, 1, 0]\n",
      "l\n",
      "a\n",
      "m\n",
      "a\n",
      "J\n"
     ]
    }
   ],
   "source": [
    "\n",
    "\n",
    "text = \"Jamal\"\n",
    "text = list(text)\n",
    "a = len(text)\n",
    "print a\n",
    "abc = range(a, -1, -1)\n",
    "print abc\n",
    "for i in abc:\n",
    "    if i < a:\n",
    "        print text[i]\n"
   ]
  },
  {
   "cell_type": "code",
   "execution_count": 234,
   "metadata": {},
   "outputs": [
    {
     "name": "stdout",
     "output_type": "stream",
     "text": [
      "[4, 3, 2, 1, 0]\n"
     ]
    },
    {
     "data": {
      "text/plain": [
       "'lamaJ'"
      ]
     },
     "execution_count": 234,
     "metadata": {},
     "output_type": "execute_result"
    }
   ],
   "source": [
    "def reverse(text):\n",
    "  New_List = []\n",
    "  text = list(text)\n",
    "  TextLength = len(text)\n",
    "  RangeOfText = range(TextLength -1, -1, -1)\n",
    "  print RangeOfText\n",
    "  while len(New_List) < 5:\n",
    "      for i in RangeOfText:\n",
    "        #New_List.append(text[i])\n",
    "        #print New_List\n",
    "        New_List.append(text[i])\n",
    "  #New_list = str(New_List) \n",
    "  return \"\".join(str(x) for x in New_List)\n",
    "\n",
    "\n",
    "\n",
    "\n",
    "reverse(\"Jamal\")\n",
    "\n",
    "\n",
    "\n",
    "\n",
    "\n",
    "\n",
    "\n"
   ]
  },
  {
   "cell_type": "code",
   "execution_count": 255,
   "metadata": {},
   "outputs": [
    {
     "name": "stdout",
     "output_type": "stream",
     "text": [
      "blah\n"
     ]
    }
   ],
   "source": [
    "\n",
    "def anti_vowel(letter):\n",
    "    letter = str(letter)\n",
    "    vowels = \"aeiouAEIOU\"\n",
    "    if letter in \"aeiouAEIOU\" == True:\n",
    "        print \"Yes\"\n",
    "    else:\n",
    "        print \"blah\"\n",
    "\n",
    "anti_vowel(\"a\")\n"
   ]
  },
  {
   "cell_type": "code",
   "execution_count": 261,
   "metadata": {},
   "outputs": [
    {
     "name": "stdout",
     "output_type": "stream",
     "text": [
      "Yes\n"
     ]
    }
   ],
   "source": [
    "letter = \"a\"\n",
    "\n",
    "if letter in \"aeiouAEIOU\":\n",
    "    print \"Yes\"\n",
    "else:\n",
    "    print \"No\""
   ]
  },
  {
   "cell_type": "code",
   "execution_count": 271,
   "metadata": {},
   "outputs": [
    {
     "name": "stdout",
     "output_type": "stream",
     "text": [
      "e\n",
      "o\n",
      "u\n"
     ]
    }
   ],
   "source": [
    "\n",
    "def anti_vowel(text):\n",
    "    text = list(text)\n",
    "    letters = []\n",
    "    for i in text:\n",
    "        if i in \"aeiouAEIOU\":\n",
    "            print i\n",
    "        #else:\n",
    "         #   letters.append(i)\n",
    "    #return  \"\".join(str(x) for x in letters)\n",
    "            \n",
    "            \n",
    "anti_vowel(\"Hey You!\")"
   ]
  },
  {
   "cell_type": "code",
   "execution_count": 295,
   "metadata": {},
   "outputs": [
    {
     "name": "stdout",
     "output_type": "stream",
     "text": [
      "11\n"
     ]
    }
   ],
   "source": [
    "Letters = {\"J\": 3, \"a\":1, \"m\":2, \"a\":1, \"l\":4}\n",
    "\n",
    "word = \"Jamal\"\n",
    "word = list(word)\n",
    "points = []\n",
    "for i in word:\n",
    "    #word = word + Letters[i]\n",
    "    points.append(Letters[i])\n",
    "print sum(points)\n",
    "    \n",
    "    \n"
   ]
  },
  {
   "cell_type": "code",
   "execution_count": 304,
   "metadata": {},
   "outputs": [
    {
     "data": {
      "text/plain": [
       "4"
      ]
     },
     "execution_count": 304,
     "metadata": {},
     "output_type": "execute_result"
    }
   ],
   "source": [
    "\n",
    "score = {\"a\": 1, \"c\": 3, \"b\": 3, \"e\": 1, \"d\": 2, \"g\": 2, \n",
    "         \"f\": 4, \"i\": 1, \"h\": 4, \"k\": 5, \"j\": 8, \"m\": 3, \n",
    "         \"l\": 1, \"o\": 1, \"n\": 1, \"q\": 10, \"p\": 3, \"s\": 1, \n",
    "         \"r\": 1, \"u\": 1, \"t\": 1, \"w\": 4, \"v\": 4, \"y\": 4, \n",
    "         \"x\": 8, \"z\": 10}\n",
    "\n",
    "def scrabble_score(word):\n",
    "  word = list(word)\n",
    "  points = []\n",
    "  for i in word:\n",
    "    points.append(score[i])\n",
    "  return sum(points)\n",
    "\n",
    "\n",
    "scrabble_score(\"ac\")"
   ]
  },
  {
   "cell_type": "code",
   "execution_count": 306,
   "metadata": {},
   "outputs": [
    {
     "name": "stdout",
     "output_type": "stream",
     "text": [
      "jamal\n"
     ]
    }
   ],
   "source": [
    "Name = \"JAMAL\"\n",
    "Name = Name.lower()\n",
    "print Name\n",
    "\n",
    "\n"
   ]
  }
 ],
 "metadata": {
  "kernelspec": {
   "display_name": "Python 2",
   "language": "python",
   "name": "python2"
  },
  "language_info": {
   "codemirror_mode": {
    "name": "ipython",
    "version": 2
   },
   "file_extension": ".py",
   "mimetype": "text/x-python",
   "name": "python",
   "nbconvert_exporter": "python",
   "pygments_lexer": "ipython2",
   "version": "2.7.13"
  }
 },
 "nbformat": 4,
 "nbformat_minor": 2
}
