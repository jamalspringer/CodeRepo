{
 "cells": [
  {
   "cell_type": "code",
   "execution_count": 23,
   "metadata": {},
   "outputs": [],
   "source": [
    "import os\n",
    "import socket\n",
    "hostname = os.system(\"/usr/bin/hostname\")"
   ]
  },
  {
   "cell_type": "code",
   "execution_count": 4,
   "metadata": {
    "collapsed": true
   },
   "outputs": [],
   "source": [
    "#Classes lesson @ https://jeffknupp.com/blog/2014/06/18/improve-your-python-python-classes-and-object-oriented-programming/ \n",
    "\n",
    "class Customer(object):\n",
    "    \"\"\"A customer of ABC Bank with a checking account. Customers have the\n",
    "    following properties:\n",
    "\n",
    "    Attributes:\n",
    "        name: A string representing the customer's name.\n",
    "        balance: A float tracking the current balance of the customer's account.\n",
    "    \"\"\"\n",
    "\n",
    "    def __init__(self, name, balance=0.0):\n",
    "        \"\"\"Return a Customer object whose name is *name* and starting\n",
    "        balance is *balance*.\"\"\"\n",
    "        self.name = name\n",
    "        self.balance = balance\n",
    "\n",
    "    def withdraw(self, amount):\n",
    "        \"\"\"Return the balance remaining after withdrawing *amount*\n",
    "        dollars.\"\"\"\n",
    "        if amount > self.balance:\n",
    "            raise RuntimeError('Amount greater than available balance.')\n",
    "        self.balance -= amount\n",
    "        return self.balance\n",
    "\n",
    "    def deposit(self, amount):\n",
    "        \"\"\"Return the balance remaining after depositing *amount*\n",
    "        dollars.\"\"\"\n",
    "        self.balance += amount\n",
    "        return self.balance\n"
   ]
  },
  {
   "cell_type": "code",
   "execution_count": 18,
   "metadata": {
    "collapsed": true
   },
   "outputs": [],
   "source": [
    "\n",
    "class BarracudaOrder:\n",
    "    def __init__(self, order_id, currency_pair, fixed_symbol, direction, quantity):\n",
    "        self.order_id = order_id\n",
    "        self.currency_pair = currency_pair\n",
    "        self.fixed_symbol = fixed_symbol\n",
    "        self.direction = direction\n",
    "        self.quantity = quantity\n",
    "        "
   ]
  },
  {
   "cell_type": "code",
   "execution_count": 5,
   "metadata": {
    "collapsed": true
   },
   "outputs": [],
   "source": [
    "class Margin:\n",
    "    def __init__(self, symbol, bid, ask):\n",
    "        #assert isinstance(good_until, datetime)\n",
    "        assert isinstance(bid, float)\n",
    "        assert isinstance(ask, float)\n",
    "        #assert isinstance(bid_pull_offset, float)\n",
    "        #assert isinstance(ask_pull_offset, float)\n",
    "\n",
    "        self.symbol = symbol\n",
    "        self.bid = bid\n",
    "        self.ask = ask\n",
    "        #self.good_until = good_until\n",
    "        #self.bid_pull_offset = bid_pull_offset\n",
    "        #self.ask_pull_offset = ask_pull_offset\n"
   ]
  },
  {
   "cell_type": "code",
   "execution_count": 12,
   "metadata": {},
   "outputs": [
    {
     "data": {
      "text/plain": [
       "'USDGBP'"
      ]
     },
     "execution_count": 12,
     "metadata": {},
     "output_type": "execute_result"
    }
   ],
   "source": [
    "\n",
    "StandardMargin = Margin(\"USDGBP\", 10.0, 11.2)\n",
    "StandardMargin."
   ]
  },
  {
   "cell_type": "code",
   "execution_count": 25,
   "metadata": {},
   "outputs": [
    {
     "name": "stdout",
     "output_type": "stream",
     "text": [
      "# On branch master\r\n",
      "# Changes to be committed:\r\n",
      "#   (use \"git reset HEAD <file>...\" to unstage)\r\n",
      "#\r\n",
      "#\trenamed:    .ipynb_checkpoints/Leaning_classes-checkpoint.ipynb -> .ipynb_checkpoints/Classes-checkpoint.ipynb\r\n",
      "#\trenamed:    Leaning_classes.ipynb -> Classes.ipynb\r\n",
      "#\r\n"
     ]
    }
   ],
   "source": [
    "!git \n"
   ]
  },
  {
   "cell_type": "code",
   "execution_count": 43,
   "metadata": {},
   "outputs": [],
   "source": [
    "\n",
    "def get_ip_address():\n",
    "    s = socket.socket(socket.AF_INET, socket.SOCK_DGRAM)\n",
    "    s.connect((\"8.8.8.8\", 80))\n",
    "    return s.getsockname()[0]\n",
    "get_ip_address()\n",
    "\n",
    "\n",
    "class Server:\n",
    "    def __init__(self, hostname, ):\n",
    "        self.hostname = \"\"\n",
    "        \n",
    "Localhost = Server(\"localhost\")\n",
    "\n",
    "        "
   ]
  },
  {
   "cell_type": "code",
   "execution_count": 37,
   "metadata": {},
   "outputs": [
    {
     "name": "stdout",
     "output_type": "stream",
     "text": [
      "win32\n",
      "nt\n"
     ]
    }
   ],
   "source": [
    "print sys.platform\n",
    "print os.name"
   ]
  }
 ],
 "metadata": {
  "kernelspec": {
   "display_name": "Python 2",
   "language": "python",
   "name": "python2"
  },
  "language_info": {
   "codemirror_mode": {
    "name": "ipython",
    "version": 2
   },
   "file_extension": ".py",
   "mimetype": "text/x-python",
   "name": "python",
   "nbconvert_exporter": "python",
   "pygments_lexer": "ipython2",
   "version": "2.7.13"
  }
 },
 "nbformat": 4,
 "nbformat_minor": 2
}
