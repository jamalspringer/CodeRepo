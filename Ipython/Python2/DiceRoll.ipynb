{
 "cells": [
  {
   "cell_type": "code",
   "execution_count": 3,
   "metadata": {
    "collapsed": true
   },
   "outputs": [],
   "source": [
    "\n",
    "import random\n"
   ]
  },
  {
   "cell_type": "code",
   "execution_count": 10,
   "metadata": {},
   "outputs": [],
   "source": [
    "#Global Variables\n"
   ]
  },
  {
   "cell_type": "code",
   "execution_count": 11,
   "metadata": {},
   "outputs": [],
   "source": [
    "#Gameplay\n",
    "\n",
    "def Gameplay():\n",
    "    Number = random.randint(1, 6)\n",
    "    print \"Welcome to the Dice game\"\n",
    "    print\n",
    "    Question = raw_input(\"Would you like to roll ?\")\n",
    "    print\n",
    "    if Question == \"Yes\":\n",
    "        print Number\n",
    "        print\n",
    "        if Number > 4:\n",
    "            print \"Looks like luck is on your side today, hooray\"\n",
    "        else:\n",
    "            print \"Too bad, please play again sometime\"\n",
    "    else:\n",
    "        print \"Ok, come back another time\"\n",
    "    Gameplay()\n",
    "\n"
   ]
  },
  {
   "cell_type": "code",
   "execution_count": null,
   "metadata": {},
   "outputs": [
    {
     "name": "stdout",
     "output_type": "stream",
     "text": [
      "Welcome to the Dice game\n",
      "\n",
      "Would you like to roll ?Yes\n",
      "\n",
      "3\n",
      "\n",
      "Too bad, please play again sometime\n",
      "Welcome to the Dice game\n",
      "\n",
      "Would you like to roll ?Yes\n",
      "\n",
      "6\n",
      "\n",
      "Looks like luck is on your side today, hooray\n",
      "Welcome to the Dice game\n",
      "\n",
      "Would you like to roll ?Yes\n",
      "\n",
      "6\n",
      "\n",
      "Looks like luck is on your side today, hooray\n",
      "Welcome to the Dice game\n",
      "\n",
      "Would you like to roll ?Yes\n",
      "\n",
      "6\n",
      "\n",
      "Looks like luck is on your side today, hooray\n",
      "Welcome to the Dice game\n",
      "\n",
      "Would you like to roll ?Yes\n",
      "\n",
      "5\n",
      "\n",
      "Looks like luck is on your side today, hooray\n",
      "Welcome to the Dice game\n",
      "\n",
      "Would you like to roll ?Yes\n",
      "\n",
      "3\n",
      "\n",
      "Too bad, please play again sometime\n",
      "Welcome to the Dice game\n",
      "\n"
     ]
    }
   ],
   "source": [
    "\n",
    "Gameplay()\n"
   ]
  }
 ],
 "metadata": {
  "kernelspec": {
   "display_name": "Python 2",
   "language": "python",
   "name": "python2"
  },
  "language_info": {
   "codemirror_mode": {
    "name": "ipython",
    "version": 2
   },
   "file_extension": ".py",
   "mimetype": "text/x-python",
   "name": "python",
   "nbconvert_exporter": "python",
   "pygments_lexer": "ipython2",
   "version": "2.7.13"
  }
 },
 "nbformat": 4,
 "nbformat_minor": 2
}
